{
 "cells": [
  {
   "cell_type": "code",
   "execution_count": 1,
   "metadata": {},
   "outputs": [],
   "source": [
    "import numpy as np\n",
    "import pandas as pd\n",
    "import seaborn as sns \n",
    "sns.set_style('whitegrid')\n",
    "\n",
    "%matplotlib inline\n",
    "import matplotlib.pyplot as plt\n",
    "from IPython.display import display, HTML\n",
    "%config InlineBackend.figure_format = 'retina'\n",
    "\n",
    "import keras\n",
    "from keras.models import Sequential\n",
    "from keras.layers import Dense\n",
    "from sklearn.neural_network import MLPClassifier"
   ]
  },
  {
   "cell_type": "code",
   "execution_count": 2,
   "metadata": {},
   "outputs": [],
   "source": [
    "breast_cancer = pd.read_table('BreastDiagnostic.txt', sep = ',', header = None)"
   ]
  },
  {
   "cell_type": "code",
   "execution_count": 3,
   "metadata": {},
   "outputs": [
    {
     "data": {
      "text/html": [
       "Number of attributes: 30 <br/>Number of patients: 569 <br/>"
      ],
      "text/plain": [
       "<IPython.core.display.HTML object>"
      ]
     },
     "metadata": {},
     "output_type": "display_data"
    }
   ],
   "source": [
    "display(HTML(\n",
    "    f\"Number of attributes: {breast_cancer.shape[1] - 2} <br/>\"\n",
    "    f\"Number of patients: {breast_cancer.shape[0]} <br/>\"))"
   ]
  },
  {
   "cell_type": "code",
   "execution_count": 4,
   "metadata": {},
   "outputs": [],
   "source": [
    "y = breast_cancer.loc[:,1]\n",
    "X = breast_cancer.drop(columns = 1)\n",
    "y = y.values\n",
    "y[y=='M'] = 1\n",
    "y[y=='B'] = 0\n",
    "y = y.astype(int)"
   ]
  },
  {
   "cell_type": "code",
   "execution_count": 5,
   "metadata": {},
   "outputs": [],
   "source": [
    "from sklearn.preprocessing import minmax_scale, OrdinalEncoder\n",
    "\n",
    "X = pd.DataFrame(minmax_scale(X))\n",
    "enc = OrdinalEncoder()\n",
    "breast_cancer.loc[:,1] = enc.fit_transform(breast_cancer.loc[:,1].to_numpy().reshape(-1,1))"
   ]
  },
  {
   "cell_type": "markdown",
   "metadata": {},
   "source": [
    "## 1) Model training using Sklearn"
   ]
  },
  {
   "cell_type": "code",
   "execution_count": 6,
   "metadata": {},
   "outputs": [],
   "source": [
    "from sklearn.model_selection import train_test_split\n",
    "\n",
    "X_train, X_test, y_train, y_test = train_test_split(X, y, test_size = .2)"
   ]
  },
  {
   "cell_type": "code",
   "execution_count": 7,
   "metadata": {},
   "outputs": [],
   "source": [
    "# Define the model & learning using scikit-learn\n",
    "mdl = MLPClassifier(solver = 'lbfgs', alpha=1e-7, hidden_layer_sizes=(10, 5))\n",
    "mdl.fit(X_train, y_train)\n",
    "y_pred = mdl.predict(X_test)"
   ]
  },
  {
   "cell_type": "code",
   "execution_count": 8,
   "metadata": {},
   "outputs": [
    {
     "data": {
      "text/html": [
       "sklearn model's score: 0.956140350877193 <br/>"
      ],
      "text/plain": [
       "<IPython.core.display.HTML object>"
      ]
     },
     "metadata": {},
     "output_type": "display_data"
    },
    {
     "data": {
      "image/png": "[encoded data removed]",
      "text/plain": [
       "<Figure size 432x288 with 2 Axes>"
      ]
     },
     "metadata": {
      "image/png": {
       "height": 276,
       "width": 326
      },
      "needs_background": "light"
     },
     "output_type": "display_data"
    }
   ],
   "source": [
    "from sklearn.metrics import plot_confusion_matrix\n",
    "\n",
    "display(HTML(\n",
    "    f\"sklearn model's score: {mdl.score(X_test, y_test)} <br/>\"\n",
    "))\n",
    "\n",
    "plot_confusion_matrix(mdl, X_test, y_test, cmap = 'Blues_r')\n",
    "plt.title('Breast Cancer Diagnosis with %f accuracy (sklearn)' %mdl.score(X_test, y_test));"
   ]
  },
  {
   "cell_type": "markdown",
   "metadata": {},
   "source": [
    "## 2) Model building & training with Keras"
   ]
  },
  {
   "cell_type": "code",
   "execution_count": 9,
   "metadata": {},
   "outputs": [],
   "source": [
    "from keras.utils import to_categorical\n",
    "\n",
    "batch_size, epochs = 30, 15 \n",
    "y_train1, y_test1 = to_categorical(y_train), to_categorical(y_test)"
   ]
  },
  {
   "cell_type": "code",
   "execution_count": 10,
   "metadata": {},
   "outputs": [
    {
     "name": "stdout",
     "output_type": "stream",
     "text": [
      "Epoch 1/15\n",
      "14/14 [==============================] - 0s 11ms/step - loss: 0.6667 - accuracy: 0.6284 - val_loss: 0.6260 - val_accuracy: 0.7609\n",
      "Epoch 2/15\n",
      "14/14 [==============================] - 0s 2ms/step - loss: 0.5624 - accuracy: 0.8557 - val_loss: 0.4821 - val_accuracy: 0.8696\n",
      "Epoch 3/15\n",
      "14/14 [==============================] - 0s 2ms/step - loss: 0.4153 - accuracy: 0.8778 - val_loss: 0.2889 - val_accuracy: 0.9565\n",
      "Epoch 4/15\n",
      "14/14 [==============================] - 0s 2ms/step - loss: 0.2856 - accuracy: 0.8924 - val_loss: 0.1772 - val_accuracy: 0.9565\n",
      "Epoch 5/15\n",
      "14/14 [==============================] - 0s 2ms/step - loss: 0.2207 - accuracy: 0.9120 - val_loss: 0.1375 - val_accuracy: 0.9783\n",
      "Epoch 6/15\n",
      "14/14 [==============================] - 0s 2ms/step - loss: 0.1746 - accuracy: 0.9291 - val_loss: 0.1161 - val_accuracy: 0.9783\n",
      "Epoch 7/15\n",
      "14/14 [==============================] - 0s 2ms/step - loss: 0.1454 - accuracy: 0.9462 - val_loss: 0.0705 - val_accuracy: 1.0000\n",
      "Epoch 8/15\n",
      "14/14 [==============================] - 0s 2ms/step - loss: 0.1149 - accuracy: 0.9682 - val_loss: 0.0562 - val_accuracy: 1.0000\n",
      "Epoch 9/15\n",
      "14/14 [==============================] - 0s 2ms/step - loss: 0.1021 - accuracy: 0.9707 - val_loss: 0.0379 - val_accuracy: 1.0000\n",
      "Epoch 10/15\n",
      "14/14 [==============================] - 0s 2ms/step - loss: 0.0892 - accuracy: 0.9731 - val_loss: 0.0381 - val_accuracy: 1.0000\n",
      "Epoch 11/15\n",
      "14/14 [==============================] - 0s 2ms/step - loss: 0.0847 - accuracy: 0.9682 - val_loss: 0.0254 - val_accuracy: 1.0000\n",
      "Epoch 12/15\n",
      "14/14 [==============================] - 0s 2ms/step - loss: 0.0748 - accuracy: 0.9804 - val_loss: 0.0226 - val_accuracy: 1.0000\n",
      "Epoch 13/15\n",
      "14/14 [==============================] - 0s 2ms/step - loss: 0.0666 - accuracy: 0.9853 - val_loss: 0.0260 - val_accuracy: 1.0000\n",
      "Epoch 14/15\n",
      "14/14 [==============================] - 0s 2ms/step - loss: 0.0592 - accuracy: 0.9878 - val_loss: 0.0383 - val_accuracy: 0.9783\n",
      "Epoch 15/15\n",
      "14/14 [==============================] - 0s 2ms/step - loss: 0.0592 - accuracy: 0.9829 - val_loss: 0.0376 - val_accuracy: 0.9783\n"
     ]
    }
   ],
   "source": [
    "# Define the model & learning using scikit-learn\n",
    "\n",
    "model = Sequential()\n",
    "model.add(Dense(64, activation='relu', input_dim = 31)) \n",
    "model.add(Dense(64, activation='relu')) \n",
    "model.add(Dense(64, activation='relu'))\n",
    "model.add(Dense(2, activation='softmax')) \n",
    "\n",
    "model.compile(optimizer='adam',loss='categorical_crossentropy', metrics=['accuracy'])\n",
    "\n",
    "history = model.fit(X_train, y_train1, batch_size=batch_size, epochs=epochs, verbose=1, validation_split=0.1)"
   ]
  },
  {
   "cell_type": "code",
   "execution_count": 11,
   "metadata": {},
   "outputs": [
    {
     "name": "stdout",
     "output_type": "stream",
     "text": [
      "4/4 [==============================] - 0s 731us/step - loss: 0.0761 - accuracy: 0.9737\n"
     ]
    }
   ],
   "source": [
    "score = model.evaluate(X_test, y_test1, batch_size=batch_size, verbose=1)"
   ]
  },
  {
   "cell_type": "markdown",
   "metadata": {},
   "source": [
    "## 3) 10-fold cross-validation"
   ]
  },
  {
   "cell_type": "code",
   "execution_count": 12,
   "metadata": {},
   "outputs": [],
   "source": [
    "# Sklearn cv scores\n",
    "from sklearn.model_selection import cross_val_score, KFold\n",
    "\n",
    "cv = cross_val_score(mdl, X_train, y_train, cv = 10)"
   ]
  },
  {
   "cell_type": "code",
   "execution_count": 13,
   "metadata": {},
   "outputs": [
    {
     "data": {
      "text/html": [
       "sklearn cv scores: [0.95652174 0.95652174 0.97826087 1.         0.91304348 0.93333333\n",
       " 0.91111111 0.95555556 0.97777778 0.95555556] <br/>Average score: 0.9537681159420289 <br/>"
      ],
      "text/plain": [
       "<IPython.core.display.HTML object>"
      ]
     },
     "metadata": {},
     "output_type": "display_data"
    }
   ],
   "source": [
    "display(HTML(\n",
    "    f\"sklearn cv scores: {cv} <br/>\"\n",
    "    f\"Average score: {np.mean(cv)} <br/>\"\n",
    "))"
   ]
  },
  {
   "cell_type": "code",
   "execution_count": 14,
   "metadata": {},
   "outputs": [],
   "source": [
    "# Keras cv scores\n",
    "\n",
    "cv = 10\n",
    "k_fold = KFold(n_splits = cv, random_state = 41, shuffle = True)\n",
    "lis_X, lis_y = [X], [y]\n",
    "epoch = 15\n",
    "\n",
    "avg_score = []\n",
    "for X, y in zip(lis_X, lis_y):\n",
    "    \n",
    "    score_kf = []\n",
    "    for train_idx, test_idx in k_fold.split(X):\n",
    "        X_train, X_test = X.loc[train_idx,:], X.loc[test_idx,:]\n",
    "        y_train, y_test = y[train_idx], y[test_idx]\n",
    "        y_train1, y_test1 = to_categorical(y_train), to_categorical(y_test)\n",
    "        \n",
    "        # Model building\n",
    "        model = Sequential()\n",
    "        model.add(Dense(64, activation='relu', input_dim = 31)) \n",
    "        model.add(Dense(64, activation='relu')) \n",
    "        model.add(Dense(64, activation='relu'))\n",
    "        model.add(Dense(2, activation='softmax')) \n",
    "\n",
    "        model.compile(optimizer='adam',loss='categorical_crossentropy', metrics=['accuracy'])\n",
    "\n",
    "        # Model training\n",
    "        history = model.fit(X_train, y_train1, batch_size=batch_size, epochs=epoch, \n",
    "                            verbose=0, validation_split=0.1)\n",
    "        \n",
    "        # Model evaluation\n",
    "        score_kf.append(model.evaluate(X_test, y_test1, batch_size=batch_size, verbose=0)[1])\n",
    "        \n",
    "    score_kf = np.array(score_kf)\n",
    "    avg_score.append(np.mean(score_kf))"
   ]
  },
  {
   "cell_type": "code",
   "execution_count": 15,
   "metadata": {},
   "outputs": [
    {
     "data": {
      "text/html": [
       "Keras cv scores: [0.9649123  0.98245615 0.94736844 0.98245615 0.9649123  0.92982459\n",
       " 0.92982459 0.9649123  0.9649123  1.        ] <br/>Average score: 0.9631579101085663 <br/>"
      ],
      "text/plain": [
       "<IPython.core.display.HTML object>"
      ]
     },
     "metadata": {},
     "output_type": "display_data"
    }
   ],
   "source": [
    "display(HTML(\n",
    "    f\"Keras cv scores: {score_kf} <br/>\"\n",
    "    f\"Average score: {avg_score[0]} <br/>\"\n",
    "))"
   ]
  },
  {
   "cell_type": "markdown",
   "metadata": {},
   "source": [
    "## 4) Heterogeneous data sets"
   ]
  },
  {
   "cell_type": "code",
   "execution_count": 16,
   "metadata": {},
   "outputs": [],
   "source": [
    "data_host = pd.read_table('SPLEX_host.txt', sep = ' ')\n",
    "data_env = pd.read_table('SPLEX_env.txt', sep = ' ')\n",
    "data_mic = pd.read_table('SPLEX_micro.txt', sep = ' ')\n",
    "data_comb = pd.concat((data_host, data_env, data_mic), axis = 1)\n",
    "y = data_mic.Gene_count\n",
    "data_comb.drop(columns = ['Gene_count'], inplace = True)"
   ]
  },
  {
   "cell_type": "code",
   "execution_count": 17,
   "metadata": {},
   "outputs": [],
   "source": [
    "sk_host = MLPClassifier(solver = 'adam', alpha=1e-7, hidden_layer_sizes=(30, 30))\n",
    "sk_env = MLPClassifier(solver = 'adam', alpha=1e-7, hidden_layer_sizes=(30, 30))\n",
    "sk_mic = MLPClassifier(solver = 'adam', alpha=1e-7, hidden_layer_sizes=(30, 30))\n",
    "sk_comb = MLPClassifier(solver = 'adam', alpha=1e-7, hidden_layer_sizes=(30, 30))"
   ]
  },
  {
   "cell_type": "code",
   "execution_count": 18,
   "metadata": {
    "scrolled": true
   },
   "outputs": [
    {
     "name": "stderr",
     "output_type": "stream",
     "text": [
      "/Users/bedisjaouani/opt/anaconda3/lib/python3.7/site-packages/sklearn/neural_network/_multilayer_perceptron.py:585: ConvergenceWarning: Stochastic Optimizer: Maximum iterations (200) reached and the optimization hasn't converged yet.\n",
      "  % self.max_iter, ConvergenceWarning)\n",
      "/Users/bedisjaouani/opt/anaconda3/lib/python3.7/site-packages/sklearn/neural_network/_multilayer_perceptron.py:585: ConvergenceWarning: Stochastic Optimizer: Maximum iterations (200) reached and the optimization hasn't converged yet.\n",
      "  % self.max_iter, ConvergenceWarning)\n",
      "/Users/bedisjaouani/opt/anaconda3/lib/python3.7/site-packages/sklearn/neural_network/_multilayer_perceptron.py:585: ConvergenceWarning: Stochastic Optimizer: Maximum iterations (200) reached and the optimization hasn't converged yet.\n",
      "  % self.max_iter, ConvergenceWarning)\n",
      "/Users/bedisjaouani/opt/anaconda3/lib/python3.7/site-packages/sklearn/neural_network/_multilayer_perceptron.py:585: ConvergenceWarning: Stochastic Optimizer: Maximum iterations (200) reached and the optimization hasn't converged yet.\n",
      "  % self.max_iter, ConvergenceWarning)\n",
      "/Users/bedisjaouani/opt/anaconda3/lib/python3.7/site-packages/sklearn/neural_network/_multilayer_perceptron.py:585: ConvergenceWarning: Stochastic Optimizer: Maximum iterations (200) reached and the optimization hasn't converged yet.\n",
      "  % self.max_iter, ConvergenceWarning)\n",
      "/Users/bedisjaouani/opt/anaconda3/lib/python3.7/site-packages/sklearn/neural_network/_multilayer_perceptron.py:585: ConvergenceWarning: Stochastic Optimizer: Maximum iterations (200) reached and the optimization hasn't converged yet.\n",
      "  % self.max_iter, ConvergenceWarning)\n",
      "/Users/bedisjaouani/opt/anaconda3/lib/python3.7/site-packages/sklearn/neural_network/_multilayer_perceptron.py:585: ConvergenceWarning: Stochastic Optimizer: Maximum iterations (200) reached and the optimization hasn't converged yet.\n",
      "  % self.max_iter, ConvergenceWarning)\n",
      "/Users/bedisjaouani/opt/anaconda3/lib/python3.7/site-packages/sklearn/neural_network/_multilayer_perceptron.py:585: ConvergenceWarning: Stochastic Optimizer: Maximum iterations (200) reached and the optimization hasn't converged yet.\n",
      "  % self.max_iter, ConvergenceWarning)\n",
      "/Users/bedisjaouani/opt/anaconda3/lib/python3.7/site-packages/sklearn/neural_network/_multilayer_perceptron.py:585: ConvergenceWarning: Stochastic Optimizer: Maximum iterations (200) reached and the optimization hasn't converged yet.\n",
      "  % self.max_iter, ConvergenceWarning)\n",
      "/Users/bedisjaouani/opt/anaconda3/lib/python3.7/site-packages/sklearn/neural_network/_multilayer_perceptron.py:585: ConvergenceWarning: Stochastic Optimizer: Maximum iterations (200) reached and the optimization hasn't converged yet.\n",
      "  % self.max_iter, ConvergenceWarning)\n",
      "/Users/bedisjaouani/opt/anaconda3/lib/python3.7/site-packages/sklearn/neural_network/_multilayer_perceptron.py:585: ConvergenceWarning: Stochastic Optimizer: Maximum iterations (200) reached and the optimization hasn't converged yet.\n",
      "  % self.max_iter, ConvergenceWarning)\n",
      "/Users/bedisjaouani/opt/anaconda3/lib/python3.7/site-packages/sklearn/neural_network/_multilayer_perceptron.py:585: ConvergenceWarning: Stochastic Optimizer: Maximum iterations (200) reached and the optimization hasn't converged yet.\n",
      "  % self.max_iter, ConvergenceWarning)\n",
      "/Users/bedisjaouani/opt/anaconda3/lib/python3.7/site-packages/sklearn/neural_network/_multilayer_perceptron.py:585: ConvergenceWarning: Stochastic Optimizer: Maximum iterations (200) reached and the optimization hasn't converged yet.\n",
      "  % self.max_iter, ConvergenceWarning)\n",
      "/Users/bedisjaouani/opt/anaconda3/lib/python3.7/site-packages/sklearn/neural_network/_multilayer_perceptron.py:585: ConvergenceWarning: Stochastic Optimizer: Maximum iterations (200) reached and the optimization hasn't converged yet.\n",
      "  % self.max_iter, ConvergenceWarning)\n",
      "/Users/bedisjaouani/opt/anaconda3/lib/python3.7/site-packages/sklearn/neural_network/_multilayer_perceptron.py:585: ConvergenceWarning: Stochastic Optimizer: Maximum iterations (200) reached and the optimization hasn't converged yet.\n",
      "  % self.max_iter, ConvergenceWarning)\n",
      "/Users/bedisjaouani/opt/anaconda3/lib/python3.7/site-packages/sklearn/neural_network/_multilayer_perceptron.py:585: ConvergenceWarning: Stochastic Optimizer: Maximum iterations (200) reached and the optimization hasn't converged yet.\n",
      "  % self.max_iter, ConvergenceWarning)\n",
      "/Users/bedisjaouani/opt/anaconda3/lib/python3.7/site-packages/sklearn/neural_network/_multilayer_perceptron.py:585: ConvergenceWarning: Stochastic Optimizer: Maximum iterations (200) reached and the optimization hasn't converged yet.\n",
      "  % self.max_iter, ConvergenceWarning)\n",
      "/Users/bedisjaouani/opt/anaconda3/lib/python3.7/site-packages/sklearn/neural_network/_multilayer_perceptron.py:585: ConvergenceWarning: Stochastic Optimizer: Maximum iterations (200) reached and the optimization hasn't converged yet.\n",
      "  % self.max_iter, ConvergenceWarning)\n",
      "/Users/bedisjaouani/opt/anaconda3/lib/python3.7/site-packages/sklearn/neural_network/_multilayer_perceptron.py:585: ConvergenceWarning: Stochastic Optimizer: Maximum iterations (200) reached and the optimization hasn't converged yet.\n",
      "  % self.max_iter, ConvergenceWarning)\n",
      "/Users/bedisjaouani/opt/anaconda3/lib/python3.7/site-packages/sklearn/neural_network/_multilayer_perceptron.py:585: ConvergenceWarning: Stochastic Optimizer: Maximum iterations (200) reached and the optimization hasn't converged yet.\n",
      "  % self.max_iter, ConvergenceWarning)\n",
      "/Users/bedisjaouani/opt/anaconda3/lib/python3.7/site-packages/sklearn/neural_network/_multilayer_perceptron.py:585: ConvergenceWarning: Stochastic Optimizer: Maximum iterations (200) reached and the optimization hasn't converged yet.\n",
      "  % self.max_iter, ConvergenceWarning)\n",
      "/Users/bedisjaouani/opt/anaconda3/lib/python3.7/site-packages/sklearn/neural_network/_multilayer_perceptron.py:585: ConvergenceWarning: Stochastic Optimizer: Maximum iterations (200) reached and the optimization hasn't converged yet.\n",
      "  % self.max_iter, ConvergenceWarning)\n",
      "/Users/bedisjaouani/opt/anaconda3/lib/python3.7/site-packages/sklearn/neural_network/_multilayer_perceptron.py:585: ConvergenceWarning: Stochastic Optimizer: Maximum iterations (200) reached and the optimization hasn't converged yet.\n",
      "  % self.max_iter, ConvergenceWarning)\n",
      "/Users/bedisjaouani/opt/anaconda3/lib/python3.7/site-packages/sklearn/neural_network/_multilayer_perceptron.py:585: ConvergenceWarning: Stochastic Optimizer: Maximum iterations (200) reached and the optimization hasn't converged yet.\n",
      "  % self.max_iter, ConvergenceWarning)\n",
      "/Users/bedisjaouani/opt/anaconda3/lib/python3.7/site-packages/sklearn/neural_network/_multilayer_perceptron.py:585: ConvergenceWarning: Stochastic Optimizer: Maximum iterations (200) reached and the optimization hasn't converged yet.\n",
      "  % self.max_iter, ConvergenceWarning)\n",
      "/Users/bedisjaouani/opt/anaconda3/lib/python3.7/site-packages/sklearn/neural_network/_multilayer_perceptron.py:585: ConvergenceWarning: Stochastic Optimizer: Maximum iterations (200) reached and the optimization hasn't converged yet.\n",
      "  % self.max_iter, ConvergenceWarning)\n",
      "/Users/bedisjaouani/opt/anaconda3/lib/python3.7/site-packages/sklearn/neural_network/_multilayer_perceptron.py:585: ConvergenceWarning: Stochastic Optimizer: Maximum iterations (200) reached and the optimization hasn't converged yet.\n",
      "  % self.max_iter, ConvergenceWarning)\n",
      "/Users/bedisjaouani/opt/anaconda3/lib/python3.7/site-packages/sklearn/neural_network/_multilayer_perceptron.py:585: ConvergenceWarning: Stochastic Optimizer: Maximum iterations (200) reached and the optimization hasn't converged yet.\n",
      "  % self.max_iter, ConvergenceWarning)\n",
      "/Users/bedisjaouani/opt/anaconda3/lib/python3.7/site-packages/sklearn/neural_network/_multilayer_perceptron.py:585: ConvergenceWarning: Stochastic Optimizer: Maximum iterations (200) reached and the optimization hasn't converged yet.\n",
      "  % self.max_iter, ConvergenceWarning)\n",
      "/Users/bedisjaouani/opt/anaconda3/lib/python3.7/site-packages/sklearn/neural_network/_multilayer_perceptron.py:585: ConvergenceWarning: Stochastic Optimizer: Maximum iterations (200) reached and the optimization hasn't converged yet.\n",
      "  % self.max_iter, ConvergenceWarning)\n",
      "/Users/bedisjaouani/opt/anaconda3/lib/python3.7/site-packages/sklearn/neural_network/_multilayer_perceptron.py:585: ConvergenceWarning: Stochastic Optimizer: Maximum iterations (200) reached and the optimization hasn't converged yet.\n",
      "  % self.max_iter, ConvergenceWarning)\n"
     ]
    },
    {
     "name": "stderr",
     "output_type": "stream",
     "text": [
      "/Users/bedisjaouani/opt/anaconda3/lib/python3.7/site-packages/sklearn/neural_network/_multilayer_perceptron.py:585: ConvergenceWarning: Stochastic Optimizer: Maximum iterations (200) reached and the optimization hasn't converged yet.\n",
      "  % self.max_iter, ConvergenceWarning)\n",
      "/Users/bedisjaouani/opt/anaconda3/lib/python3.7/site-packages/sklearn/neural_network/_multilayer_perceptron.py:585: ConvergenceWarning: Stochastic Optimizer: Maximum iterations (200) reached and the optimization hasn't converged yet.\n",
      "  % self.max_iter, ConvergenceWarning)\n",
      "/Users/bedisjaouani/opt/anaconda3/lib/python3.7/site-packages/sklearn/neural_network/_multilayer_perceptron.py:585: ConvergenceWarning: Stochastic Optimizer: Maximum iterations (200) reached and the optimization hasn't converged yet.\n",
      "  % self.max_iter, ConvergenceWarning)\n",
      "/Users/bedisjaouani/opt/anaconda3/lib/python3.7/site-packages/sklearn/neural_network/_multilayer_perceptron.py:585: ConvergenceWarning: Stochastic Optimizer: Maximum iterations (200) reached and the optimization hasn't converged yet.\n",
      "  % self.max_iter, ConvergenceWarning)\n",
      "/Users/bedisjaouani/opt/anaconda3/lib/python3.7/site-packages/sklearn/neural_network/_multilayer_perceptron.py:585: ConvergenceWarning: Stochastic Optimizer: Maximum iterations (200) reached and the optimization hasn't converged yet.\n",
      "  % self.max_iter, ConvergenceWarning)\n",
      "/Users/bedisjaouani/opt/anaconda3/lib/python3.7/site-packages/sklearn/neural_network/_multilayer_perceptron.py:585: ConvergenceWarning: Stochastic Optimizer: Maximum iterations (200) reached and the optimization hasn't converged yet.\n",
      "  % self.max_iter, ConvergenceWarning)\n",
      "/Users/bedisjaouani/opt/anaconda3/lib/python3.7/site-packages/sklearn/neural_network/_multilayer_perceptron.py:585: ConvergenceWarning: Stochastic Optimizer: Maximum iterations (200) reached and the optimization hasn't converged yet.\n",
      "  % self.max_iter, ConvergenceWarning)\n",
      "/Users/bedisjaouani/opt/anaconda3/lib/python3.7/site-packages/sklearn/neural_network/_multilayer_perceptron.py:585: ConvergenceWarning: Stochastic Optimizer: Maximum iterations (200) reached and the optimization hasn't converged yet.\n",
      "  % self.max_iter, ConvergenceWarning)\n",
      "/Users/bedisjaouani/opt/anaconda3/lib/python3.7/site-packages/sklearn/neural_network/_multilayer_perceptron.py:585: ConvergenceWarning: Stochastic Optimizer: Maximum iterations (200) reached and the optimization hasn't converged yet.\n",
      "  % self.max_iter, ConvergenceWarning)\n"
     ]
    }
   ],
   "source": [
    "cv_host = cross_val_score(sk_host, X_train, y_train, cv = 10);\n",
    "cv_env = cross_val_score(sk_env, X_train, y_train, cv = 10);\n",
    "cv_mic = cross_val_score(sk_mic, X_train, y_train, cv = 10);\n",
    "cv_comb = cross_val_score(sk_comb, X_train, y_train, cv = 10);"
   ]
  },
  {
   "cell_type": "code",
   "execution_count": 19,
   "metadata": {},
   "outputs": [
    {
     "data": {
      "text/html": [
       "Sklearn cv scores:<br/>Host: 0.9726621417797888 <br/>Environment: 0.9707013574660633 <br/>Microbiota: 0.9726621417797888 <br/>Combined: 0.9726621417797888 <br/>"
      ],
      "text/plain": [
       "<IPython.core.display.HTML object>"
      ]
     },
     "metadata": {},
     "output_type": "display_data"
    }
   ],
   "source": [
    "display(HTML(\n",
    "    f\"Sklearn cv scores:<br/>\"\n",
    "    f\"Host: {np.mean(cv_host)} <br/>\"\n",
    "    f\"Environment: {np.mean(cv_env)} <br/>\"\n",
    "    f\"Microbiota: {np.mean(cv_mic)} <br/>\"\n",
    "    f\"Combined: {np.mean(cv_comb)} <br/>\"\n",
    "))"
   ]
  },
  {
   "cell_type": "code",
   "execution_count": 20,
   "metadata": {},
   "outputs": [],
   "source": [
    "# Keras cv scores\n",
    "from sklearn.preprocessing import LabelEncoder, StandardScaler\n",
    "\n",
    "cv = 10\n",
    "k_fold = KFold(n_splits = cv, random_state = 41, shuffle = True)\n",
    "scaler = StandardScaler()\n",
    "lis_X, lis_y = [scaler.fit_transform(data_host), \n",
    "                scaler.fit_transform(data_env), \n",
    "                scaler.fit_transform(data_mic), \n",
    "                scaler.fit_transform(data_comb)], [y, y, y, y]\n",
    "epoch, batch_size = 20, 15\n",
    "\n",
    "\n",
    "avg_score = []\n",
    "for X, y in zip(lis_X, lis_y):\n",
    "    inp_dim = X.shape[1]\n",
    "    score_kf = []\n",
    "    for train_idx, test_idx in k_fold.split(X):\n",
    "        X_train, X_test = X[train_idx,:], X[test_idx,:]\n",
    "        y_train, y_test = y[train_idx], y[test_idx]\n",
    "        #y_train1, y_test1 = to_categorical(y_train)[:,1:], to_categorical(y_test)[:,1:]\n",
    "        # encode class values as integers\n",
    "        enc1, enc2 = LabelEncoder(), LabelEncoder()\n",
    "        enc1.fit(y_train)\n",
    "        y_train1 = enc1.transform(y_train)\n",
    "        enc2.fit(y_test)\n",
    "        y_test1 = enc2.transform(y_test)\n",
    "        \n",
    "        # Model building\n",
    "        model = Sequential()\n",
    "        model.add(Dense(30, activation='relu', input_dim = inp_dim)) \n",
    "        model.add(Dense(30, activation='relu')) \n",
    "        #model.add(Dense(30, activation='relu'))\n",
    "        model.add(Dense(1, activation='sigmoid')) \n",
    "\n",
    "        model.compile(optimizer='adam',loss='binary_crossentropy', metrics=['accuracy'])\n",
    "\n",
    "        # Model training\n",
    "        history = model.fit(X_train, y_train1, batch_size=batch_size, epochs=epoch, \n",
    "                            verbose=0, validation_split=0.1)\n",
    "        \n",
    "        # Model evaluation\n",
    "        score_kf.append(model.evaluate(X_test, y_test1, batch_size=batch_size, verbose=0)[1])\n",
    "        \n",
    "    score_kf = np.array(score_kf)\n",
    "    avg_score.append(np.mean(score_kf))"
   ]
  },
  {
   "cell_type": "code",
   "execution_count": 21,
   "metadata": {},
   "outputs": [
    {
     "data": {
      "text/html": [
       "Keras cv scores:<br/>Host: 0.5500000134110451 <br/>Environment: 0.4400000095367432 <br/>Microbiota: 0.9150000035762786 <br/>Combined: 0.5850000083446503 <br/>"
      ],
      "text/plain": [
       "<IPython.core.display.HTML object>"
      ]
     },
     "metadata": {},
     "output_type": "display_data"
    }
   ],
   "source": [
    "display(HTML(\n",
    "    f\"Keras cv scores:<br/>\"\n",
    "    f\"Host: {avg_score[0]} <br/>\"\n",
    "    f\"Environment: {avg_score[1]} <br/>\"\n",
    "    f\"Microbiota: {avg_score[2]} <br/>\"\n",
    "    f\"Combined: {avg_score[3]} <br/>\"\n",
    "))"
   ]
  }
 ],
 "metadata": {
  "kernelspec": {
   "display_name": "Python 3",
   "language": "python",
   "name": "python3"
  },
  "language_info": {
   "codemirror_mode": {
    "name": "ipython",
    "version": 3
   },
   "file_extension": ".py",
   "mimetype": "text/x-python",
   "name": "python",
   "nbconvert_exporter": "python",
   "pygments_lexer": "ipython3",
   "version": "3.7.4"
  }
 },
 "nbformat": 4,
 "nbformat_minor": 4
}
